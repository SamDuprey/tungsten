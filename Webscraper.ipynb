{
  "nbformat": 4,
  "nbformat_minor": 0,
  "metadata": {
    "colab": {
      "provenance": []
    },
    "kernelspec": {
      "name": "python3",
      "display_name": "Python 3"
    },
    "language_info": {
      "name": "python"
    }
  },
  "cells": [
    {
      "cell_type": "code",
      "execution_count": 1,
      "metadata": {
        "id": "9096vAXVGcKK",
        "colab": {
          "base_uri": "https://localhost:8080/"
        },
        "outputId": "7a762477-1c05-4fac-e8bb-6e991d9cdc0a"
      },
      "outputs": [
        {
          "output_type": "stream",
          "name": "stdout",
          "text": [
            "Enter a chemical name, CAS number, or Product Number (or 'done' to finish): gold\n",
            "Enter a chemical name, CAS number, or Product Number (or 'done' to finish): done\n",
            "gold\n",
            "https://www.fishersci.com/store/msds?partNumber=G541&productDescription=gold-chloride-tri-r-acs-g&vendorId=VN00033897&keyword=true&countryCode=US&language=en\n",
            "https://www.fishersci.com/store/msds?partNumber=G545&productDescription=gold-chloride-tri-r-acs-g&vendorId=VN00033897&keyword=true&countryCode=US&language=en\n",
            "https://www.fishersci.com/store/msds?partNumber=AA14731BP&productDescription=gld-wire-mm-dia-cm&vendorId=VN00024248&keyword=true&countryCode=US&language=en\n",
            "https://www.fishersci.com/store/msds?partNumber=AA14731BS&productDescription=gld-wire-mm-dia-cm&vendorId=VN00024248&keyword=true&countryCode=US&language=en\n",
            "https://www.fishersci.com/store/msds?partNumber=AA14731BW&productDescription=gld-wire-mm-dia-cm&vendorId=VN00024248&keyword=true&countryCode=US&language=en\n",
            "https://www.fishersci.com/store/msds?partNumber=AA11063BP&productDescription=gld-wire-mmdia--cm&vendorId=VN00024248&keyword=true&countryCode=US&language=en\n",
            "https://www.fishersci.com/store/msds?partNumber=AA11063BS&productDescription=gld-wire-mmdia--cm&vendorId=VN00024248&keyword=true&countryCode=US&language=en\n",
            "https://www.fishersci.com/store/msds?partNumber=AA12555HF&productDescription=gld-rd-mm-dia-mm&vendorId=VN00024248&keyword=true&countryCode=US&language=en\n",
            "https://www.fishersci.com/store/msds?partNumber=AA14721FF&productDescription=gld-fl-mmthk-xmm&vendorId=VN00024248&keyword=true&countryCode=US&language=en\n",
            "https://www.fishersci.com/store/msds?partNumber=AA14721GH&productDescription=gld-fl-mmthk-xmm&vendorId=VN00024248&keyword=true&countryCode=US&language=en\n",
            "https://www.fishersci.com/store/msds?partNumber=AA14721FI&productDescription=gld-fl-mmthk-xmm&vendorId=VN00024248&keyword=true&countryCode=US&language=en\n",
            "https://www.fishersci.com/store/msds?partNumber=AC437140050&productDescription=gold-shot-trace-metal-gr&vendorId=VN00032119&keyword=true&countryCode=US&language=en\n",
            "https://www.fishersci.com/store/msds?partNumber=AC437140010&productDescription=gold-shot-trace-metal-gr&vendorId=VN00032119&keyword=true&countryCode=US&language=en\n",
            "https://www.fishersci.com/store/msds?partNumber=AA40585G8&productDescription=gld-wire-mmdia-a--m&vendorId=VN00024248&keyword=true&countryCode=US&language=en\n",
            "https://www.fishersci.com/store/msds?partNumber=AA40585G5&productDescription=gld-wire-mmdia-a--m&vendorId=VN00024248&keyword=true&countryCode=US&language=en\n",
            "https://www.fishersci.com/store/msds?partNumber=AA40585G1&productDescription=gld-wire-mmdia-a--m&vendorId=VN00024248&keyword=true&countryCode=US&language=en\n",
            "https://www.fishersci.com/store/msds?partNumber=AA3974206&productDescription=gold-iii-acetate-g&vendorId=VN00024248&keyword=true&countryCode=US&language=en\n",
            "https://www.fishersci.com/store/msds?partNumber=AA3974203&productDescription=gold-iii-acetate-g&vendorId=VN00024248&keyword=true&countryCode=US&language=en\n",
            "https://www.fishersci.com/store/msds?partNumber=AA3974202&productDescription=gold-iii-acetate-g&vendorId=VN00024248&keyword=true&countryCode=US&language=en\n",
            "https://www.fishersci.com/store/msds?partNumber=AC388330010&productDescription=gold-i-chloride-gr&vendorId=VN00032119&keyword=true&countryCode=US&language=en\n",
            "https://www.fishersci.com/store/msds?partNumber=AC388330050&productDescription=gold-i-chloride-gr&vendorId=VN00032119&keyword=true&countryCode=US&language=en\n",
            "https://www.fishersci.com/store/msds?partNumber=AA0072206&productDescription=gold-splatter-g&vendorId=VN00024248&keyword=true&countryCode=US&language=en\n",
            "https://www.fishersci.com/store/msds?partNumber=AA0072203&productDescription=gold-splatter-g&vendorId=VN00024248&keyword=true&countryCode=US&language=en\n",
            "https://www.fishersci.com/store/msds?partNumber=AA4390106&productDescription=gld-pwr-sphrcl-msh--g&vendorId=VN00024248&keyword=true&countryCode=US&language=en\n",
            "https://www.fishersci.com/store/msds?partNumber=AA4390103&productDescription=gld-pwr-sphrcl-msh--g&vendorId=VN00024248&keyword=true&countryCode=US&language=en\n",
            "https://www.fishersci.com/store/msds?partNumber=AA14727G9&productDescription=gld-wire-mm-dia-m&vendorId=VN00024248&keyword=true&countryCode=US&language=en\n",
            "https://www.fishersci.com/store/msds?partNumber=AA14727G1&productDescription=gld-wire-mm-dia-m&vendorId=VN00024248&keyword=true&countryCode=US&language=en\n",
            "https://www.fishersci.com/store/msds?partNumber=AA14727G5&productDescription=gld-wire-mm-dia-m&vendorId=VN00024248&keyword=true&countryCode=US&language=en\n",
            "https://www.fishersci.com/store/msds?partNumber=AA14728CB&productDescription=gld-wire-mm-dia-cm&vendorId=VN00024248&keyword=true&countryCode=US&language=en\n",
            "https://www.fishersci.com/store/msds?partNumber=AA14728BS&productDescription=gld-wire-mm-dia-cm&vendorId=VN00024248&keyword=true&countryCode=US&language=en\n",
            "https://www.fishersci.com/store/msds?partNumber=AA14728BW&productDescription=gld-wire-mm-dia-cm&vendorId=VN00024248&keyword=true&countryCode=US&language=en\n",
            "https://www.fishersci.com/store/msds?partNumber=AA1061206&productDescription=gold-pwr-mesh-g&vendorId=VN00024248&keyword=true&countryCode=US&language=en\n",
            "https://www.fishersci.com/store/msds?partNumber=AA1061203&productDescription=gold-pwr-mesh-g&vendorId=VN00024248&keyword=true&countryCode=US&language=en\n",
            "https://www.fishersci.com/store/msds?partNumber=AA8972603&productDescription=gld-plat-palld-pwr--mic--g&vendorId=VN00024248&keyword=true&countryCode=US&language=en\n",
            "\n",
            "\n",
            "\n",
            "\n",
            "34\n"
          ]
        }
      ],
      "source": [
        "# Import necessary libraries\n",
        "import requests  # Used for making HTTP requests\n",
        "from bs4 import BeautifulSoup  # Used for HTML parsing\n",
        "\n",
        "# Initialize an empty list to store the chemical identifiers\n",
        "chemicals = []\n",
        "\n",
        "# Continuously prompt the user for input until 'done' is entered\n",
        "while True:\n",
        "    chemical = input(\"Enter a chemical name, CAS number, or Product Number (or 'done' to finish): \")\n",
        "    # Check if the user wants to end the input process\n",
        "    if chemical.lower() == 'done':\n",
        "        break\n",
        "    # If not 'done', add the input to the chemicals list\n",
        "    chemicals.append(chemical)\n",
        "\n",
        "# Define the base URL for the SDS search on Fisher Scientific's website\n",
        "base_url = \"https://www.fishersci.com/us/en/catalog/search/sds?selectLang=EN&store=&msdsKeyword=\"\n",
        "\n",
        "# Initialize an empty list to hold the full search URLs\n",
        "search_urls = []\n",
        "\n",
        "# Append each chemical's search URL to the search_urls list\n",
        "for chemical in chemicals:\n",
        "    search_urls.append(base_url + chemical)\n",
        "\n",
        "# Initialize an index to track the current chemical being processed\n",
        "index = 0\n",
        "\n",
        "# Iterate through each search URL to fetch and process the SDS links\n",
        "for search_url in search_urls:\n",
        "    msds_links = []  # Initialize an empty list to store the MSDS links found\n",
        "    # Make an HTTP GET request to fetch the content of the search page\n",
        "    response = requests.get(search_url)\n",
        "    # Parse the HTML content of the page\n",
        "    soup = BeautifulSoup(response.text, 'html.parser')\n",
        "\n",
        "    # Find all <a> tags with 'store/msds' in their href attribute, indicating an SDS link\n",
        "    matching_links = soup.find_all('a', href=lambda href: href and 'store/msds' in href)\n",
        "\n",
        "    # Add the found SDS links to the msds_links list\n",
        "    msds_links.extend(matching_links)\n",
        "\n",
        "    # Print the chemical being processed\n",
        "    print(chemicals[index])\n",
        "    # For each SDS link found, prepend the base URL to make the link complete and print it\n",
        "    for link in msds_links:\n",
        "        link['href'] = \"https://www.fishersci.com\" + link['href']\n",
        "        print(link['href'])\n",
        "\n",
        "    # Print newlines for visual separation before processing the next chemical\n",
        "    print(\"\\n\\n\\n\")\n",
        "    # Increment the index to move to the next chemical in the list\n",
        "    index += 1\n",
        "    # Print the number of MSDS links found for debugging or information purposes\n",
        "    print(len(msds_links))\n",
        "\n",
        "# At this point, you could print all collected links or use them as needed\n"
      ]
    },
    {
      "cell_type": "code",
      "source": [
        "# Initialize an empty list to store product IDs\n",
        "product_ids = []\n",
        "\n",
        "# Prompt the user to input product names until 'done' is entered\n",
        "while True:\n",
        "    id = input(\"Enter a product name (or 'done' if finished): \")\n",
        "    # If 'done' is entered, break out of the loop\n",
        "    if id.lower() == 'done':\n",
        "        break\n",
        "    # Add the entered product name to the list of product IDs\n",
        "    product_ids.append(id)\n",
        "\n",
        "# Base URL for Sigma Aldrich SDS (Safety Data Sheets)\n",
        "url = \"https://www.sigmaaldrich.com/US/en/sds/sigma/\"\n",
        "\n",
        "# Iterate over each product ID in the list\n",
        "for id in product_ids:\n",
        "    # Construct the URL for the specific product's SDS\n",
        "    output = url + id + \"?userType=anonymous\"\n",
        "    # Print the constructed URL\n",
        "    print(output)\n"
      ],
      "metadata": {
        "colab": {
          "base_uri": "https://localhost:8080/"
        },
        "id": "eVIs5R073yfl",
        "outputId": "54329ae8-bb7f-4674-944f-6a618d6460cc"
      },
      "execution_count": null,
      "outputs": [
        {
          "output_type": "stream",
          "name": "stdout",
          "text": [
            "Enter a product name (or 'done' if finished): 20716885\n",
            "Enter a product name (or 'done' if finished): 57501\n",
            "Enter a product name (or 'done' if finished): 156627\n",
            "Enter a product name (or 'done' if finished): 62544\n",
            "Enter a product name (or 'done' if finished): 13477366\n",
            "Enter a product name (or 'done' if finished): 7789802\n",
            "Enter a product name (or 'done' if finished): done\n",
            "https://www.sigmaaldrich.com/US/en/sds/sigma/20716885?userType=anonymous\n",
            "https://www.sigmaaldrich.com/US/en/sds/sigma/57501?userType=anonymous\n",
            "https://www.sigmaaldrich.com/US/en/sds/sigma/156627?userType=anonymous\n",
            "https://www.sigmaaldrich.com/US/en/sds/sigma/62544?userType=anonymous\n",
            "https://www.sigmaaldrich.com/US/en/sds/sigma/13477366?userType=anonymous\n",
            "https://www.sigmaaldrich.com/US/en/sds/sigma/7789802?userType=anonymous\n"
          ]
        }
      ]
    }
  ]
}